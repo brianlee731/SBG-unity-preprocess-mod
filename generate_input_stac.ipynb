{
 "cells": [
  {
   "cell_type": "markdown",
   "id": "843e865c-d6da-4ddd-8155-5191d0b315c7",
   "metadata": {
    "editable": true,
    "slideshow": {
     "slide_type": ""
    },
    "tags": []
   },
   "source": [
    "# Generate STAC from a set of files\n",
    "\n",
    "Applicaiton packages rely on stac files for stage-in and stage-out. While we handle this through the use of libraries, we often need the \"initial\" stac input tos tart a workflow or input to an applicaiton package based on a set of local files. This script helps us create that by pointing at a local directory and creating STAC items from them."
   ]
  },
  {
   "cell_type": "code",
   "execution_count": 1,
   "id": "bfae9396-8e46-473e-a245-a87db1ab4cd4",
   "metadata": {
    "editable": true,
    "slideshow": {
     "slide_type": ""
    },
    "tags": []
   },
   "outputs": [],
   "source": [
    "from unity_sds_client.resources.collection import Collection\n",
    "\n",
    "# stage_out packages\n",
    "from datetime import datetime, timezone\n",
    "from unity_sds_client.resources.dataset import Dataset\n",
    "from unity_sds_client.resources.data_file import DataFile\n",
    "\n",
    "import netCDF4\n",
    "import os\n"
   ]
  },
  {
   "cell_type": "code",
   "execution_count": 2,
   "id": "44b97c2e-a9d8-4917-be47-6f90905890fb",
   "metadata": {
    "editable": true,
    "slideshow": {
     "slide_type": ""
    },
    "tags": []
   },
   "outputs": [],
   "source": [
    "# Create a collection\n",
    "# for this collection, the name doens't really matter because we're creating it form local files. If we were getting this from the Unity data catalog or CMR, this information would be supplied on your behalf.\n",
    "out_collection  = Collection(\"EMIT_L1B_RAD\")"
   ]
  },
  {
   "cell_type": "code",
   "execution_count": 3,
   "id": "23bb5815-66e3-4abd-a304-a5c27c4c0325",
   "metadata": {
    "editable": true,
    "slideshow": {
     "slide_type": ""
    },
    "tags": []
   },
   "outputs": [],
   "source": [
    "\n",
    "# Create a Dataset for the collection\n",
    "# A dataset is a collection of files relating to some measurement or period of measurements. this is also known as a \"granule\" in earthdata. \n",
    "# The start and end times should be read from the file metadata or the file name, but because we're sinply using this for staging local data \n",
    "# products, not searching, it's not required to have accurate information here. If we are creating data files we want to persist and search on, \n",
    "# it's important to add corret metadata to aid in search and filtering.\n",
    "\n",
    "dataset = Dataset(\n",
    "    name='EMIT_L1B_RAD_001_20231206T160939_2334011_006', \n",
    "    collection_id=out_collection.collection_id, \n",
    "    start_time=datetime.utcnow().replace(tzinfo=timezone.utc).isoformat(),\n",
    "    end_time=datetime.utcnow().replace(tzinfo=timezone.utc).isoformat(),\n",
    "    creation_time=datetime.utcnow().replace(tzinfo=timezone.utc).isoformat(),\n",
    ")"
   ]
  },
  {
   "cell_type": "code",
   "execution_count": 4,
   "id": "38201e5d-c34f-4246-8c7b-87608db41436",
   "metadata": {
    "editable": true,
    "slideshow": {
     "slide_type": ""
    },
    "tags": []
   },
   "outputs": [],
   "source": [
    "# Add output file(s) to the dataset\n",
    "# Here we are adding the 2 files that make up this dataaset. we give them a 'type' and an href (location). \n",
    "dataset.add_data_file(DataFile(\"radiance\", \"/unity/ads/inputs/L1B/EMIT_L1B_RAD_001_20231206T160939_2334011_006.nc\"))\n",
    "dataset.add_data_file(DataFile(\"observation\", \"/unity/ads/inputs/L1B/EMIT_L1B_OBS_001_20231206T160939_2334011_006.nc\"))"
   ]
  },
  {
   "cell_type": "code",
   "execution_count": 5,
   "id": "643eaf6e-8d98-4d52-9793-24f19ebb8b78",
   "metadata": {
    "editable": true,
    "slideshow": {
     "slide_type": ""
    },
    "tags": []
   },
   "outputs": [],
   "source": [
    "# Add the dataset to the collection\n",
    "#out_collection.add_dataset(dataset)\n",
    "out_collection._datasets.append(dataset)\n",
    "\n",
    "Collection.to_stac(out_collection, \"/unity/ads/inputs/L1B\")"
   ]
  },
  {
   "cell_type": "code",
   "execution_count": null,
   "id": "170f4d7a-ae78-4ffb-996c-a87e79aec8c9",
   "metadata": {
    "editable": true,
    "slideshow": {
     "slide_type": ""
    },
    "tags": []
   },
   "outputs": [],
   "source": []
  }
 ],
 "metadata": {
  "kernelspec": {
   "display_name": "Python 3 (ipykernel)",
   "language": "python",
   "name": "python3"
  },
  "language_info": {
   "codemirror_mode": {
    "name": "ipython",
    "version": 3
   },
   "file_extension": ".py",
   "mimetype": "text/x-python",
   "name": "python",
   "nbconvert_exporter": "python",
   "pygments_lexer": "ipython3",
   "version": "3.8.18"
  }
 },
 "nbformat": 4,
 "nbformat_minor": 5
}
