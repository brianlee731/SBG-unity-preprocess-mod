{
 "cells": [
  {
   "cell_type": "code",
   "execution_count": 1,
   "id": "1251c9f4",
   "metadata": {
    "editable": true,
    "slideshow": {
     "slide_type": ""
    },
    "tags": []
   },
   "outputs": [],
   "source": [
    "import os\n",
    "import netCDF4\n",
    "\n",
    "# stage_in packages\n",
    "from unity_sds_client.resources.collection import Collection\n",
    "\n",
    "# stage_out packages\n",
    "from datetime import datetime, timezone\n",
    "from unity_sds_client.resources.dataset import Dataset\n",
    "from unity_sds_client.resources.data_file import DataFile"
   ]
  },
  {
   "cell_type": "code",
   "execution_count": null,
   "id": "1a07e7e7-2ddf-46ac-9efd-000f86da7476",
   "metadata": {
    "editable": true,
    "slideshow": {
     "slide_type": ""
    },
    "tags": [
     "parameters"
    ]
   },
   "outputs": [],
   "source": [
    "\n",
    "input_stac_collection_file = 'test' # type: stage-in\n",
    "output_stac_catalog_dir    = 'process_results/'                    # type: stage-out\n",
    "\n",
    "# pre-process variables\n",
    "output_collection=\"L1B_processed\"\n",
    "crid = \"001\"\n",
    "temp_directory = \"/tmp\"\n",
    "sensor = \"EMIT\"\n"
   ]
  },
  {
   "cell_type": "markdown",
   "id": "60b7fa38",
   "metadata": {
    "editable": true,
    "slideshow": {
     "slide_type": ""
    },
    "tags": []
   },
   "source": [
    "# Import Files from STAC Item Collection\n",
    "\n",
    "Load filenames from the stage_in STAC item collection file"
   ]
  },
  {
   "cell_type": "code",
   "execution_count": 4,
   "id": "3a09d57c",
   "metadata": {
    "editable": true,
    "slideshow": {
     "slide_type": ""
    },
    "tags": []
   },
   "outputs": [
    {
     "data": {
      "text/plain": [
       "['/home/mcduffie/Devel/unity/unity-example-application/test/stage_in/./SNDR.SS1330.CHIRP.20160822T0005.m06.g001.L1_AQ.std.v02_48.G.200425095850.nc',\n",
       " '/home/mcduffie/Devel/unity/unity-example-application/test/stage_in/./SNDR.SS1330.CHIRP.20160822T0011.m06.g002.L1_AQ.std.v02_48.G.200425095901.nc']"
      ]
     },
     "execution_count": 4,
     "metadata": {},
     "output_type": "execute_result"
    }
   ],
   "source": [
    "inp_collection = Collection.from_stac(input_stac_collection_file)\n",
    "data_filenames = inp_collection.data_locations()\n",
    "\n",
    "data_filenames"
   ]
  },
  {
   "cell_type": "markdown",
   "id": "73e97444",
   "metadata": {
    "editable": true,
    "slideshow": {
     "slide_type": ""
    },
    "tags": []
   },
   "source": [
    "# Preprocess Command\n"
   ]
  },
  {
   "cell_type": "code",
   "execution_count": null,
   "id": "d5854bd9-4fd1-47da-b6af-741650b590f8",
   "metadata": {
    "editable": true,
    "slideshow": {
     "slide_type": ""
    },
    "tags": []
   },
   "outputs": [],
   "source": [
    "emit_directory = os.path.dirname(run_config['inputs']['raw_dataset'])\n",
    "obs_base_name = raw_file.replace('RAD','OBS')\n",
    "\n",
    "\n",
    "# This is the code we're actually interested in\n",
    "emit.nc_to_envi(raw_file,\n",
    "                    output,\n",
    "                    temp_directory,\n",
    "                    obs_file = obs_base_name,\n",
    "                    export_loc = True,\n",
    "                    crid = str(run_config['inputs']['crid']))\n",
    "\n",
    "for dataset in glob.glob(output+\"/SISTER*.bin\"):\n",
    "        generate_metadata(dataset.replace('.bin','.hdr'),\n",
    "                                  output)\n",
    "\n",
    "#Update crid\n",
    "for file in glob.glob(output+\"/SISTER*\"):\n",
    "    os.rename(file,file.replace('CRID',\n",
    "                                    str(run_config['inputs']['crid'])))\n",
    "\n",
    "rdn_file =  glob.glob(output+\"/*%s.bin\" % run_config['inputs']['crid'])[0]\n",
    "generate_quicklook(rdn_file,output)\n",
    "\n",
    "if os.path.exists(run_config_json):\n",
    "    shutil.copyfile(run_config_json,\n",
    "                output+'/%s.runconfig.json' % os.path.basename(rdn_file)[:-4])\n",
    "\n",
    "#added this check because i don't think this script is creating a run.log... not sure where this comes from\n",
    "if os.path.exists('run.log'):\n",
    "    shutil.copyfile('run.log',\n",
    "                output+'/%s.log' % os.path.basename(rdn_file)[:-4])\n",
    "# done being \"interested in\""
   ]
  },
  {
   "cell_type": "markdown",
   "id": "89224c4e",
   "metadata": {
    "editable": true,
    "slideshow": {
     "slide_type": ""
    },
    "tags": []
   },
   "source": [
    "# Create stage-out item catalog"
   ]
  },
  {
   "cell_type": "code",
   "execution_count": 9,
   "id": "b4aa5d3b",
   "metadata": {
    "editable": true,
    "slideshow": {
     "slide_type": ""
    },
    "tags": []
   },
   "outputs": [],
   "source": [
    "# Create a collection\n",
    "out_collection  = Collection(\"SNDR13CHRP1AQCal_rebin\")\n",
    "    \n",
    "# Create a Dataset for the collection\n",
    "dataset = Dataset(\n",
    "    name=os.path.splitext(summary_table_filename)[0], \n",
    "    collection_id=out_collection.collection_id, \n",
    "    start_time=datetime.utcnow().replace(tzinfo=timezone.utc).isoformat(), \n",
    "    end_time=datetime.utcnow().replace(tzinfo=timezone.utc).isoformat(),\n",
    "    creation_time=datetime.utcnow().replace(tzinfo=timezone.utc).isoformat(),\n",
    ")\n",
    "\n",
    "# Add output file(s) to the dataset\n",
    "dataset.add_data_file(DataFile(\"data\", summary_table_filename))\n",
    "\n",
    "# Add the dataset to the collection\n",
    "#out_collection.add_dataset(dataset)\n",
    "out_collection._datasets.append(dataset)\n",
    "\n",
    "Collection.to_stac(out_collection, output_stac_catalog_dir)"
   ]
  }
 ],
 "metadata": {
  "celltoolbar": "Tags",
  "kernelspec": {
   "display_name": "Python 3 (ipykernel)",
   "language": "python",
   "name": "python3"
  },
  "language_info": {
   "codemirror_mode": {
    "name": "ipython",
    "version": 3
   },
   "file_extension": ".py",
   "mimetype": "text/x-python",
   "name": "python",
   "nbconvert_exporter": "python",
   "pygments_lexer": "ipython3",
   "version": "3.11.5"
  }
 },
 "nbformat": 4,
 "nbformat_minor": 5
}
